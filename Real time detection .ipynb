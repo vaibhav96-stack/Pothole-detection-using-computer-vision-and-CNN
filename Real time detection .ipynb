{
 "cells": [
  {
   "cell_type": "code",
   "execution_count": 6,
   "id": "b5f24692",
   "metadata": {},
   "outputs": [],
   "source": [
    "import cv2\n",
    "from keras.models import load_model\n",
    "from tensorflow.keras.preprocessing import image\n",
    "import matplotlib.pyplot as plt\n",
    "import tensorflow as tf\n",
    "import numpy as np\n",
    "from keras.models import load_model\n",
    "import cv2\n",
    "import os\n",
    "arr1=['normal', 'pothole']\n",
    "\n",
    "y_actual = []\n",
    "y_predicted = []\n",
    "MODEL = load_model(r\"C:\\Users\\vaibhav\\Downloads/model_.04-0.22.h5\")\n",
    "\n",
    "vid=cv2.VideoCapture(0)\n",
    "vid.set(3,640)\n",
    "vid.set(4,480)\n",
    "while True:\n",
    "    Success,img=vid.read()\n",
    "    \n",
    "    \n",
    "    img1=img\n",
    "\n",
    "    img1=img1/255.0\n",
    "    img1=cv2.resize(img1, (200, 200),interpolation = cv2.INTER_NEAREST)\n",
    "    X=image.img_to_array(img1)\n",
    "    X=np.expand_dims(X,axis=0)\n",
    "    images=np.vstack([X])\n",
    "    prediction= MODEL.predict(images)\n",
    "    \n",
    "    index=0\n",
    "    maxi=-9999\n",
    "    #print(prediction)\n",
    "    for i in range(len(prediction[0])):\n",
    "        if prediction[0][i]>maxi:\n",
    "            maxi=prediction[0][i]\n",
    "            index=i\n",
    "    \n",
    "    a=arr1[index]+\" is detected ! \"\n",
    "    cv2.putText(img, a, (5, 60), cv2.FONT_HERSHEY_COMPLEX_SMALL, 1, (0, 0, 255), 1)\n",
    "    \n",
    "    cv2.imshow(\"Vedio\",img)\n",
    "    k = cv2.waitKey(1) & 0xFF\n",
    "    if k == 27:\n",
    "        break\n",
    "cv2.destroyAllWindows()\n",
    "vid.release()\n"
   ]
  },
  {
   "cell_type": "code",
   "execution_count": null,
   "id": "24bdc57c",
   "metadata": {},
   "outputs": [],
   "source": []
  }
 ],
 "metadata": {
  "kernelspec": {
   "display_name": "Python 3",
   "language": "python",
   "name": "python3"
  },
  "language_info": {
   "codemirror_mode": {
    "name": "ipython",
    "version": 3
   },
   "file_extension": ".py",
   "mimetype": "text/x-python",
   "name": "python",
   "nbconvert_exporter": "python",
   "pygments_lexer": "ipython3",
   "version": "3.8.8"
  }
 },
 "nbformat": 4,
 "nbformat_minor": 5
}
